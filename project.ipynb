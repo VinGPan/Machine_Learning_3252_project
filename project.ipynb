{
 "cells": [
  {
   "cell_type": "markdown",
   "metadata": {},
   "source": [
    "# Title"
   ]
  },
  {
   "cell_type": "markdown",
   "metadata": {},
   "source": [
    "## 1.0 Introduction"
   ]
  },
  {
   "cell_type": "markdown",
   "metadata": {},
   "source": [
    "## 2.0 Data Description"
   ]
  },
  {
   "cell_type": "markdown",
   "metadata": {},
   "source": [
    "### 2.1 Exploratory Data Analysis"
   ]
  },
  {
   "cell_type": "markdown",
   "metadata": {},
   "source": [
    "## 3.0 Model Search Framework"
   ]
  },
  {
   "cell_type": "markdown",
   "metadata": {},
   "source": [
    "## 4.0 Feature Engineering"
   ]
  },
  {
   "cell_type": "markdown",
   "metadata": {},
   "source": [
    "## 5.0 Results"
   ]
  },
  {
   "cell_type": "code",
   "execution_count": 1,
   "metadata": {},
   "outputs": [
    {
     "name": "stdout",
     "output_type": "stream",
     "text": [
      "Sampling Frequency = 5\n"
     ]
    }
   ],
   "source": [
    "from src.s01_train_test_split import do_train_test_split\n",
    "\n",
    "do_train_test_split()"
   ]
  },
  {
   "cell_type": "markdown",
   "metadata": {},
   "source": [
    "### 5.1 Experiment 1"
   ]
  },
  {
   "cell_type": "code",
   "execution_count": 2,
   "metadata": {},
   "outputs": [
    {
     "name": "stdout",
     "output_type": "stream",
     "text": [
      "Top 3 classifiers\n"
     ]
    },
    {
     "data": {
      "text/html": [
       "<div>\n",
       "<style scoped>\n",
       "    .dataframe tbody tr th:only-of-type {\n",
       "        vertical-align: middle;\n",
       "    }\n",
       "\n",
       "    .dataframe tbody tr th {\n",
       "        vertical-align: top;\n",
       "    }\n",
       "\n",
       "    .dataframe thead th {\n",
       "        text-align: right;\n",
       "    }\n",
       "</style>\n",
       "<table border=\"1\" class=\"dataframe\">\n",
       "  <thead>\n",
       "    <tr style=\"text-align: right;\">\n",
       "      <th></th>\n",
       "      <th>classifier</th>\n",
       "      <th>preprocess</th>\n",
       "      <th>transform</th>\n",
       "      <th>accuracy</th>\n",
       "      <th>balanced_accuracy</th>\n",
       "      <th>f1_score</th>\n",
       "    </tr>\n",
       "  </thead>\n",
       "  <tbody>\n",
       "    <tr>\n",
       "      <th>0</th>\n",
       "      <td>knn</td>\n",
       "      <td>none</td>\n",
       "      <td>none</td>\n",
       "      <td>100.0</td>\n",
       "      <td>1.0</td>\n",
       "      <td>1.0</td>\n",
       "    </tr>\n",
       "    <tr>\n",
       "      <th>1</th>\n",
       "      <td>random_forest</td>\n",
       "      <td>none</td>\n",
       "      <td>none</td>\n",
       "      <td>100.0</td>\n",
       "      <td>1.0</td>\n",
       "      <td>1.0</td>\n",
       "    </tr>\n",
       "    <tr>\n",
       "      <th>2</th>\n",
       "      <td>knn</td>\n",
       "      <td>min_max</td>\n",
       "      <td>none</td>\n",
       "      <td>99.99738096485254</td>\n",
       "      <td>0.9999752940013836</td>\n",
       "      <td>0.999973809370695</td>\n",
       "    </tr>\n",
       "  </tbody>\n",
       "</table>\n",
       "</div>"
      ],
      "text/plain": [
       "      classifier preprocess transform           accuracy   balanced_accuracy  \\\n",
       "0            knn       none      none              100.0                 1.0   \n",
       "1  random_forest       none      none              100.0                 1.0   \n",
       "2            knn    min_max      none  99.99738096485254  0.9999752940013836   \n",
       "\n",
       "            f1_score  \n",
       "0                1.0  \n",
       "1                1.0  \n",
       "2  0.999973809370695  "
      ]
     },
     "execution_count": 2,
     "metadata": {},
     "output_type": "execute_result"
    }
   ],
   "source": [
    "from src.s02_prepare_data import prepare_data\n",
    "from src.s04_build_models import build_models\n",
    "\n",
    "exp_yml_name = 'experiments/exp_01.yml'\n",
    "prepare_data(exp_yml_name, training=True)\n",
    "exp1_scores, exp1_top_scores = build_models(exp_yml_name)\n",
    "print(\"Top 3 classifiers\")\n",
    "exp1_top_scores"
   ]
  },
  {
   "cell_type": "markdown",
   "metadata": {},
   "source": [
    "### 5.2 Experiment 2"
   ]
  },
  {
   "cell_type": "code",
   "execution_count": 3,
   "metadata": {},
   "outputs": [
    {
     "name": "stdout",
     "output_type": "stream",
     "text": [
      "Top 3 classifiers\n"
     ]
    },
    {
     "data": {
      "text/html": [
       "<div>\n",
       "<style scoped>\n",
       "    .dataframe tbody tr th:only-of-type {\n",
       "        vertical-align: middle;\n",
       "    }\n",
       "\n",
       "    .dataframe tbody tr th {\n",
       "        vertical-align: top;\n",
       "    }\n",
       "\n",
       "    .dataframe thead th {\n",
       "        text-align: right;\n",
       "    }\n",
       "</style>\n",
       "<table border=\"1\" class=\"dataframe\">\n",
       "  <thead>\n",
       "    <tr style=\"text-align: right;\">\n",
       "      <th></th>\n",
       "      <th>classifier</th>\n",
       "      <th>preprocess</th>\n",
       "      <th>transform</th>\n",
       "      <th>accuracy</th>\n",
       "      <th>balanced_accuracy</th>\n",
       "      <th>f1_score</th>\n",
       "    </tr>\n",
       "  </thead>\n",
       "  <tbody>\n",
       "    <tr>\n",
       "      <th>0</th>\n",
       "      <td>random_forest</td>\n",
       "      <td>standard_scalar</td>\n",
       "      <td>none</td>\n",
       "      <td>56.54793085385018</td>\n",
       "      <td>0.486838392728484</td>\n",
       "      <td>0.5246877056022392</td>\n",
       "    </tr>\n",
       "    <tr>\n",
       "      <th>1</th>\n",
       "      <td>knn</td>\n",
       "      <td>none</td>\n",
       "      <td>none</td>\n",
       "      <td>53.8108957569408</td>\n",
       "      <td>0.48286852593996654</td>\n",
       "      <td>0.5343482773353966</td>\n",
       "    </tr>\n",
       "    <tr>\n",
       "      <th>2</th>\n",
       "      <td>gradboost</td>\n",
       "      <td>min_max</td>\n",
       "      <td>none</td>\n",
       "      <td>56.469355683603986</td>\n",
       "      <td>0.47624158528862964</td>\n",
       "      <td>0.5391106776392328</td>\n",
       "    </tr>\n",
       "  </tbody>\n",
       "</table>\n",
       "</div>"
      ],
      "text/plain": [
       "      classifier       preprocess transform            accuracy  \\\n",
       "0  random_forest  standard_scalar      none   56.54793085385018   \n",
       "1            knn             none      none    53.8108957569408   \n",
       "2      gradboost          min_max      none  56.469355683603986   \n",
       "\n",
       "     balanced_accuracy            f1_score  \n",
       "0    0.486838392728484  0.5246877056022392  \n",
       "1  0.48286852593996654  0.5343482773353966  \n",
       "2  0.47624158528862964  0.5391106776392328  "
      ]
     },
     "execution_count": 3,
     "metadata": {},
     "output_type": "execute_result"
    }
   ],
   "source": [
    "exp_yml_name = 'experiments/exp_02.yml'\n",
    "prepare_data(exp_yml_name, training=True)\n",
    "exp2_scores, exp2_top_scores = build_models(exp_yml_name)\n",
    "print(\"Top 3 classifiers\")\n",
    "exp2_top_scores"
   ]
  },
  {
   "cell_type": "markdown",
   "metadata": {},
   "source": [
    "### 5.3 Experiment 3"
   ]
  },
  {
   "cell_type": "code",
   "execution_count": 4,
   "metadata": {},
   "outputs": [
    {
     "name": "stdout",
     "output_type": "stream",
     "text": [
      "Top 3 classifiers\n"
     ]
    },
    {
     "data": {
      "text/html": [
       "<div>\n",
       "<style scoped>\n",
       "    .dataframe tbody tr th:only-of-type {\n",
       "        vertical-align: middle;\n",
       "    }\n",
       "\n",
       "    .dataframe tbody tr th {\n",
       "        vertical-align: top;\n",
       "    }\n",
       "\n",
       "    .dataframe thead th {\n",
       "        text-align: right;\n",
       "    }\n",
       "</style>\n",
       "<table border=\"1\" class=\"dataframe\">\n",
       "  <thead>\n",
       "    <tr style=\"text-align: right;\">\n",
       "      <th></th>\n",
       "      <th>classifier</th>\n",
       "      <th>preprocess</th>\n",
       "      <th>transform</th>\n",
       "      <th>accuracy</th>\n",
       "      <th>balanced_accuracy</th>\n",
       "      <th>f1_score</th>\n",
       "    </tr>\n",
       "  </thead>\n",
       "  <tbody>\n",
       "    <tr>\n",
       "      <th>0</th>\n",
       "      <td>random_forest</td>\n",
       "      <td>min_max</td>\n",
       "      <td>none</td>\n",
       "      <td>48.0529697128622</td>\n",
       "      <td>0.43257228095156863</td>\n",
       "      <td>0.4493202118288043</td>\n",
       "    </tr>\n",
       "    <tr>\n",
       "      <th>1</th>\n",
       "      <td>adaboost</td>\n",
       "      <td>min_max</td>\n",
       "      <td>pca</td>\n",
       "      <td>45.692933001180016</td>\n",
       "      <td>0.42627214070929803</td>\n",
       "      <td>0.4275977618052473</td>\n",
       "    </tr>\n",
       "    <tr>\n",
       "      <th>2</th>\n",
       "      <td>gradboost</td>\n",
       "      <td>min_max</td>\n",
       "      <td>pca</td>\n",
       "      <td>46.112495083256846</td>\n",
       "      <td>0.423425329118613</td>\n",
       "      <td>0.44434970820119657</td>\n",
       "    </tr>\n",
       "  </tbody>\n",
       "</table>\n",
       "</div>"
      ],
      "text/plain": [
       "      classifier preprocess transform            accuracy  \\\n",
       "0  random_forest    min_max      none    48.0529697128622   \n",
       "1       adaboost    min_max       pca  45.692933001180016   \n",
       "2      gradboost    min_max       pca  46.112495083256846   \n",
       "\n",
       "     balanced_accuracy             f1_score  \n",
       "0  0.43257228095156863   0.4493202118288043  \n",
       "1  0.42627214070929803   0.4275977618052473  \n",
       "2    0.423425329118613  0.44434970820119657  "
      ]
     },
     "execution_count": 4,
     "metadata": {},
     "output_type": "execute_result"
    }
   ],
   "source": [
    "exp_yml_name = 'experiments/exp_03.yml'\n",
    "prepare_data(exp_yml_name, training=True)\n",
    "exp3_scores, exp3_top_scores = build_models(exp_yml_name)\n",
    "print(\"Top 3 classifiers\")\n",
    "exp3_top_scores"
   ]
  },
  {
   "cell_type": "markdown",
   "metadata": {},
   "source": [
    "### 5.4 Experiment 4"
   ]
  },
  {
   "cell_type": "code",
   "execution_count": 5,
   "metadata": {},
   "outputs": [
    {
     "name": "stdout",
     "output_type": "stream",
     "text": [
      "Top 3 classifiers\n"
     ]
    },
    {
     "data": {
      "text/html": [
       "<div>\n",
       "<style scoped>\n",
       "    .dataframe tbody tr th:only-of-type {\n",
       "        vertical-align: middle;\n",
       "    }\n",
       "\n",
       "    .dataframe tbody tr th {\n",
       "        vertical-align: top;\n",
       "    }\n",
       "\n",
       "    .dataframe thead th {\n",
       "        text-align: right;\n",
       "    }\n",
       "</style>\n",
       "<table border=\"1\" class=\"dataframe\">\n",
       "  <thead>\n",
       "    <tr style=\"text-align: right;\">\n",
       "      <th></th>\n",
       "      <th>classifier</th>\n",
       "      <th>preprocess</th>\n",
       "      <th>transform</th>\n",
       "      <th>accuracy</th>\n",
       "      <th>balanced_accuracy</th>\n",
       "      <th>f1_score</th>\n",
       "    </tr>\n",
       "  </thead>\n",
       "  <tbody>\n",
       "    <tr>\n",
       "      <th>0</th>\n",
       "      <td>random_forest</td>\n",
       "      <td>standard_scalar</td>\n",
       "      <td>isomap</td>\n",
       "      <td>17.46031746031746</td>\n",
       "      <td>0.2888033019611967</td>\n",
       "      <td>0.19439393502187016</td>\n",
       "    </tr>\n",
       "    <tr>\n",
       "      <th>1</th>\n",
       "      <td>adaboost</td>\n",
       "      <td>standard_scalar</td>\n",
       "      <td>lle</td>\n",
       "      <td>17.46031746031746</td>\n",
       "      <td>0.28663003663003667</td>\n",
       "      <td>0.1703493874546506</td>\n",
       "    </tr>\n",
       "    <tr>\n",
       "      <th>2</th>\n",
       "      <td>xgboost</td>\n",
       "      <td>none</td>\n",
       "      <td>lle</td>\n",
       "      <td>15.873015873015872</td>\n",
       "      <td>0.28305028305028307</td>\n",
       "      <td>0.19296536796536792</td>\n",
       "    </tr>\n",
       "  </tbody>\n",
       "</table>\n",
       "</div>"
      ],
      "text/plain": [
       "      classifier       preprocess transform            accuracy  \\\n",
       "0  random_forest  standard_scalar    isomap   17.46031746031746   \n",
       "1       adaboost  standard_scalar       lle   17.46031746031746   \n",
       "2        xgboost             none       lle  15.873015873015872   \n",
       "\n",
       "     balanced_accuracy             f1_score  \n",
       "0   0.2888033019611967  0.19439393502187016  \n",
       "1  0.28663003663003667   0.1703493874546506  \n",
       "2  0.28305028305028307  0.19296536796536792  "
      ]
     },
     "execution_count": 5,
     "metadata": {},
     "output_type": "execute_result"
    }
   ],
   "source": [
    "exp_yml_name = 'experiments/exp_04.yml'\n",
    "prepare_data(exp_yml_name, training=True)\n",
    "exp4_scores, exp4_top_scores = build_models(exp_yml_name)\n",
    "print(\"Top 3 classifiers\")\n",
    "exp4_top_scores"
   ]
  },
  {
   "cell_type": "markdown",
   "metadata": {},
   "source": [
    "### 5.5 Experiment 5"
   ]
  },
  {
   "cell_type": "code",
   "execution_count": 6,
   "metadata": {},
   "outputs": [
    {
     "name": "stdout",
     "output_type": "stream",
     "text": [
      "Top 3 classifiers\n"
     ]
    },
    {
     "data": {
      "text/html": [
       "<div>\n",
       "<style scoped>\n",
       "    .dataframe tbody tr th:only-of-type {\n",
       "        vertical-align: middle;\n",
       "    }\n",
       "\n",
       "    .dataframe tbody tr th {\n",
       "        vertical-align: top;\n",
       "    }\n",
       "\n",
       "    .dataframe thead th {\n",
       "        text-align: right;\n",
       "    }\n",
       "</style>\n",
       "<table border=\"1\" class=\"dataframe\">\n",
       "  <thead>\n",
       "    <tr style=\"text-align: right;\">\n",
       "      <th></th>\n",
       "      <th>classifier</th>\n",
       "      <th>preprocess</th>\n",
       "      <th>transform</th>\n",
       "      <th>accuracy</th>\n",
       "      <th>balanced_accuracy</th>\n",
       "      <th>f1_score</th>\n",
       "    </tr>\n",
       "  </thead>\n",
       "  <tbody>\n",
       "    <tr>\n",
       "      <th>0</th>\n",
       "      <td>random_forest</td>\n",
       "      <td>none</td>\n",
       "      <td>isomap</td>\n",
       "      <td>22.22222222222222</td>\n",
       "      <td>0.33699633699633696</td>\n",
       "      <td>0.22882877430807713</td>\n",
       "    </tr>\n",
       "    <tr>\n",
       "      <th>1</th>\n",
       "      <td>adaboost</td>\n",
       "      <td>min_max</td>\n",
       "      <td>none</td>\n",
       "      <td>14.814814814814813</td>\n",
       "      <td>0.2652014652014652</td>\n",
       "      <td>0.15775630703166937</td>\n",
       "    </tr>\n",
       "    <tr>\n",
       "      <th>2</th>\n",
       "      <td>random_forest</td>\n",
       "      <td>standard_scalar</td>\n",
       "      <td>lle</td>\n",
       "      <td>14.814814814814813</td>\n",
       "      <td>0.26167166167166167</td>\n",
       "      <td>0.13288207893471052</td>\n",
       "    </tr>\n",
       "  </tbody>\n",
       "</table>\n",
       "</div>"
      ],
      "text/plain": [
       "      classifier       preprocess transform            accuracy  \\\n",
       "0  random_forest             none    isomap   22.22222222222222   \n",
       "1       adaboost          min_max      none  14.814814814814813   \n",
       "2  random_forest  standard_scalar       lle  14.814814814814813   \n",
       "\n",
       "     balanced_accuracy             f1_score  \n",
       "0  0.33699633699633696  0.22882877430807713  \n",
       "1   0.2652014652014652  0.15775630703166937  \n",
       "2  0.26167166167166167  0.13288207893471052  "
      ]
     },
     "execution_count": 6,
     "metadata": {},
     "output_type": "execute_result"
    }
   ],
   "source": [
    "exp_yml_name = 'experiments/exp_05.yml'\n",
    "prepare_data(exp_yml_name, training=True)\n",
    "exp5_scores, exp5_top_scores = build_models(exp_yml_name)\n",
    "print(\"Top 3 classifiers\")\n",
    "exp5_top_scores"
   ]
  },
  {
   "cell_type": "markdown",
   "metadata": {},
   "source": [
    "### 5.6 Comparison"
   ]
  },
  {
   "cell_type": "markdown",
   "metadata": {},
   "source": [
    "## 6.0 Conclusion"
   ]
  },
  {
   "cell_type": "markdown",
   "metadata": {},
   "source": [
    "# Appendix"
   ]
  },
  {
   "cell_type": "markdown",
   "metadata": {},
   "source": [
    "## A. Experiment 1"
   ]
  },
  {
   "cell_type": "markdown",
   "metadata": {},
   "source": [
    "## B. Experiment 2"
   ]
  },
  {
   "cell_type": "markdown",
   "metadata": {},
   "source": [
    "## C. Experiment 3"
   ]
  },
  {
   "cell_type": "markdown",
   "metadata": {},
   "source": [
    "## D. Experiment 4"
   ]
  },
  {
   "cell_type": "markdown",
   "metadata": {},
   "source": [
    "## E. Experiment 5"
   ]
  },
  {
   "cell_type": "code",
   "execution_count": null,
   "metadata": {},
   "outputs": [],
   "source": []
  }
 ],
 "metadata": {
  "kernelspec": {
   "display_name": "Python 3",
   "language": "python",
   "name": "python3"
  },
  "language_info": {
   "codemirror_mode": {
    "name": "ipython",
    "version": 3
   },
   "file_extension": ".py",
   "mimetype": "text/x-python",
   "name": "python",
   "nbconvert_exporter": "python",
   "pygments_lexer": "ipython3",
   "version": "3.6.8"
  }
 },
 "nbformat": 4,
 "nbformat_minor": 2
}
